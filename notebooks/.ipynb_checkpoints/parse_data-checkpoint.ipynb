{
 "cells": [
  {
   "cell_type": "code",
   "execution_count": 1,
   "id": "5f86265c-aba8-4bb7-b910-48b56e7f08e3",
   "metadata": {},
   "outputs": [],
   "source": [
    "import pandas as pd\n",
    "import itertools, subprocess"
   ]
  },
  {
   "cell_type": "code",
   "execution_count": 2,
   "id": "86cd0844-8b31-477c-bab9-9c4109ce55a8",
   "metadata": {},
   "outputs": [],
   "source": [
    "# https://structurome.bb.iastate.edu/download/all-chromosome-full-data-set-forward-strand-windows\n",
    "# This file (uncompressed) is 28 GB so I just took the first 1000 lines to test with.\n",
    "df = pd.read_csv('../data/head_1000.tsv',sep='\\t',header=None)\n",
    "df.drop(columns=[1,2,5,6,7],inplace=True)\n",
    "df.columns = ['chromosome','id1','id2','data']"
   ]
  },
  {
   "cell_type": "code",
   "execution_count": 3,
   "id": "0cddc8e7-5b92-42c1-b041-64082da290c1",
   "metadata": {},
   "outputs": [],
   "source": [
    "# Expand data and format 'data' column\n",
    "data_df = df['data'].str.split(';',expand=True).apply(lambda x: x.apply(lambda y: y.split('=')[-1]),axis=1)\n",
    "data_df.columns = ['MFE','z_score','p_value','ensdiv','mfe_freq','seq','fold']"
   ]
  },
  {
   "cell_type": "code",
   "execution_count": 4,
   "id": "2af05c1a-de4a-41c2-8d63-cdff8109ef4d",
   "metadata": {},
   "outputs": [
    {
     "name": "stderr",
     "output_type": "stream",
     "text": [
      "/Users/dillionfox/miniconda3/envs/quvax/lib/python3.7/site-packages/ipykernel_launcher.py:6: UserWarning: Boolean Series key will be reindexed to match DataFrame index.\n",
      "  \n"
     ]
    }
   ],
   "source": [
    "# Merge formatted data column back into df\n",
    "df = df.merge(data_df,left_index=True,right_index=True)\n",
    "df.drop(columns=['data'],inplace=True)\n",
    "# Some entries look like garbage. Drop them.\n",
    "df = df[data_df['seq'].apply(lambda x: 'N' not in x)]\n",
    "df = df[data_df['fold'].apply(lambda x: '(' in x)]"
   ]
  },
  {
   "cell_type": "code",
   "execution_count": 5,
   "id": "3af6591f-2dfc-479a-9123-53fb2ffdc989",
   "metadata": {},
   "outputs": [],
   "source": [
    "def get_bps(row):\n",
    "    seq = row['seq']\n",
    "    ss = row['fold']\n",
    "    \n",
    "    p = subprocess.Popen(['RNAeval','-v'],stdin=subprocess.PIPE, stdout=subprocess.PIPE)\n",
    "    instr = '{seq}\\n{ss}\\n'.format(seq=seq,ss=ss).encode()\n",
    "    out, err = p.communicate(input=instr)\n",
    "\n",
    "    # Parse output from ViennaRNA\n",
    "    sout = str(out).split('\\\\n')\n",
    "    # Extract base pairs from outpit\n",
    "    bp_list = [s[s.find(\"(\")+1:s.find(\")\")].replace(' ','').split(',') \\\n",
    "                        for sublist in [_.split(';') for _ in sout[1:-3]] for s in sublist]\n",
    "    # Convert base pairs to integers\n",
    "    bp_list = [[int(__) for __ in _] for _ in bp_list]\n",
    "    bp_list.sort()\n",
    "    \n",
    "    # Return unique list of base pairs\n",
    "    return list(bp_list for bp_list,_ in itertools.groupby(bp_list))"
   ]
  },
  {
   "cell_type": "code",
   "execution_count": 6,
   "id": "5f26818d-38e0-426c-9001-a4ed674fb24d",
   "metadata": {},
   "outputs": [],
   "source": [
    "# Extract base pairs from fold\n",
    "df['base_pairs'] = df.apply(get_bps,axis=1)"
   ]
  },
  {
   "cell_type": "code",
   "execution_count": null,
   "id": "9823cd1b-1d80-4d0f-bddf-c7db572f634b",
   "metadata": {},
   "outputs": [],
   "source": []
  }
 ],
 "metadata": {
  "kernelspec": {
   "display_name": "Python (quvax)",
   "language": "python",
   "name": "quvax"
  },
  "language_info": {
   "codemirror_mode": {
    "name": "ipython",
    "version": 3
   },
   "file_extension": ".py",
   "mimetype": "text/x-python",
   "name": "python",
   "nbconvert_exporter": "python",
   "pygments_lexer": "ipython3",
   "version": "3.7.10"
  }
 },
 "nbformat": 4,
 "nbformat_minor": 5
}
